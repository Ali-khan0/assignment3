{
 "cells": [
  {
   "cell_type": "code",
   "execution_count": 1,
   "id": "4bc47e7f",
   "metadata": {},
   "outputs": [
    {
     "name": "stdout",
     "output_type": "stream",
     "text": [
      "Twinkle, twinkle, little star, \n",
      "\tHow I wonder what you are! \n",
      "\t\tUp above the world so high, \n",
      "\t\tLike a diamond in the sky. \n",
      "Twinkle, twinkle, little star, \n",
      "\tHow I wonder what you are!\n"
     ]
    }
   ],
   "source": [
    "# Program NO.1;\n",
    "\n",
    "print(\"Twinkle, twinkle, little star, \\n\\tHow I wonder what you are! \\n\\t\\tUp above the world so high, \\n\\t\\tLike a diamond in the sky. \\nTwinkle, twinkle, little star, \\n\\tHow I wonder what you are!\")"
   ]
  },
  {
   "cell_type": "code",
   "execution_count": 6,
   "id": "640d714e",
   "metadata": {},
   "outputs": [
    {
     "name": "stdout",
     "output_type": "stream",
     "text": [
      "3.8.8 (default, Apr 13 2021, 15:08:03) [MSC v.1916 64 bit (AMD64)]\n",
      "3.8.8\n"
     ]
    }
   ],
   "source": [
    "# Program NO.2\n",
    "\n",
    "import sys\n",
    "\n",
    "print(platform.python_version())"
   ]
  },
  {
   "cell_type": "code",
   "execution_count": 9,
   "id": "e9fc3c71",
   "metadata": {},
   "outputs": [
    {
     "name": "stdout",
     "output_type": "stream",
     "text": [
      "2021-10-24 08:18:46.157978\n"
     ]
    }
   ],
   "source": [
    "# Program NO.3\n",
    "\n",
    "import datetime\n",
    "\n",
    "print(datetime.datetime.now())"
   ]
  },
  {
   "cell_type": "code",
   "execution_count": 11,
   "id": "927e2975",
   "metadata": {},
   "outputs": [
    {
     "name": "stdout",
     "output_type": "stream",
     "text": [
      "Please Put Radius here5\n",
      "10\n"
     ]
    }
   ],
   "source": [
    "# Program No.4\n",
    "\n",
    "radius = int(input(\"Please Put Radius here\"))\n",
    "diameter = radius * 2\n",
    "print(diameter)"
   ]
  },
  {
   "cell_type": "code",
   "execution_count": 14,
   "id": "b87d8433",
   "metadata": {},
   "outputs": [
    {
     "name": "stdout",
     "output_type": "stream",
     "text": [
      "enter your first nameALI\n",
      "enter your last nameKHAN\n",
      "KHANALI\n"
     ]
    }
   ],
   "source": [
    "# Program No.5\n",
    "\n",
    "first_name = input(\"enter your first name\")\n",
    "last_name = input(\"enter your last name\")\n",
    "\n",
    "\n",
    "\n",
    "reverse = last_name + first_name\n",
    "print(reverse)"
   ]
  },
  {
   "cell_type": "code",
   "execution_count": 17,
   "id": "f1f1189d",
   "metadata": {},
   "outputs": [
    {
     "name": "stdout",
     "output_type": "stream",
     "text": [
      "Enter data one1\n",
      "Enter data two1\n",
      "11\n"
     ]
    }
   ],
   "source": [
    "# Program No.6\n",
    "\n",
    "dataone = input(\"Enter data one\")\n",
    "datatwo = input(\"Enter data two\")\n",
    "\n",
    "result = dataone + datatwo\n",
    "print(result)"
   ]
  },
  {
   "cell_type": "code",
   "execution_count": 19,
   "id": "44dd7ca7",
   "metadata": {},
   "outputs": [
    {
     "name": "stdout",
     "output_type": "stream",
     "text": [
      "Enter English Marks78\n",
      "Enter Maths Marks58\n",
      "Enter islamiat Marks90\n",
      "Enter Science Marks64\n",
      "Enter Computer Marks55\n",
      "C Grade\n"
     ]
    }
   ],
   "source": [
    "# Program No.7\n",
    "English = int(input(\"Enter English Marks\")) \n",
    "Maths = int(input(\"Enter Maths Marks\"))\n",
    "islamiat = int(input(\"Enter islamiat Marks\"))\n",
    "Science = int(input(\"Enter Science Marks\"))\n",
    "Computer = int(input(\"Enter Computer Marks\"))\n",
    "obtained_mark =English+Maths+islamiat;\n",
    "total_marks = 500;\n",
    "percentage = obtained_mark/total_marks*100;\n",
    "\n",
    "\n",
    "if  percentage <= 100 and percentage >=80:\n",
    "    print(\"A1 Grade\");\n",
    "elif  percentage <= 80 and percentage >=60 :\n",
    "    print (\"B Grade\");\n",
    "elif  percentage <= 60 and percentage >=40 :\n",
    "    print(\"C Grade\");\n",
    "elif  percentage <= 40 and percentage >=30: \n",
    "    print(\"D Grade\");\n",
    "else:\n",
    "    print(\"fail\");\n",
    "    "
   ]
  },
  {
   "cell_type": "code",
   "execution_count": 6,
   "id": "3d981999",
   "metadata": {},
   "outputs": [
    {
     "name": "stdout",
     "output_type": "stream",
     "text": [
      "Enter a number: 5\n",
      "5 is Odd\n"
     ]
    }
   ],
   "source": [
    "# Program No.8\n",
    "num = int(input(\"Enter a number: \"))\n",
    "if (num % 2) == 0:\n",
    "   print(\"{0} is Even\".format(num))\n",
    "else:\n",
    "   print(\"{0} is Odd\".format(num))"
   ]
  },
  {
   "cell_type": "code",
   "execution_count": 12,
   "id": "41315d22",
   "metadata": {},
   "outputs": [
    {
     "name": "stdout",
     "output_type": "stream",
     "text": [
      "5\n"
     ]
    }
   ],
   "source": [
    "# Program No.9\n",
    "\n",
    "lst = [\"Ali\",\"Sir Muhammad Ali Mughal\",\"Sir Bilal\",5,4]\n",
    "print(len(lst))"
   ]
  },
  {
   "cell_type": "code",
   "execution_count": 15,
   "id": "51849f78",
   "metadata": {},
   "outputs": [
    {
     "name": "stdout",
     "output_type": "stream",
     "text": [
      "115\n"
     ]
    }
   ],
   "source": [
    "# Program No.10\n",
    "\n",
    "lst = [4,5,0,64,41,1]\n",
    "total = sum(lst)\n",
    "print(total)"
   ]
  },
  {
   "cell_type": "code",
   "execution_count": 16,
   "id": "d6d63067",
   "metadata": {},
   "outputs": [
    {
     "name": "stdout",
     "output_type": "stream",
     "text": [
      "64\n"
     ]
    }
   ],
   "source": [
    "# Program No.11\n",
    "\n",
    "lst = [4,5,0,64,41,1]\n",
    "largest = max(lst)\n",
    "print(largest)"
   ]
  },
  {
   "cell_type": "code",
   "execution_count": 21,
   "id": "b0e894b0",
   "metadata": {},
   "outputs": [
    {
     "name": "stdout",
     "output_type": "stream",
     "text": [
      "[1, 1, 2, 3, 5]\n"
     ]
    }
   ],
   "source": [
    "# Program No.12\n",
    "lst = [1, 1, 2, 3, 5, 8, 13, 21, 34, 55, 89] \n",
    "\n",
    "print(lst[:5])"
   ]
  },
  {
   "cell_type": "code",
   "execution_count": null,
   "id": "35d30730",
   "metadata": {},
   "outputs": [],
   "source": []
  }
 ],
 "metadata": {
  "kernelspec": {
   "display_name": "Python 3",
   "language": "python",
   "name": "python3"
  },
  "language_info": {
   "codemirror_mode": {
    "name": "ipython",
    "version": 3
   },
   "file_extension": ".py",
   "mimetype": "text/x-python",
   "name": "python",
   "nbconvert_exporter": "python",
   "pygments_lexer": "ipython3",
   "version": "3.8.8"
  }
 },
 "nbformat": 4,
 "nbformat_minor": 5
}
